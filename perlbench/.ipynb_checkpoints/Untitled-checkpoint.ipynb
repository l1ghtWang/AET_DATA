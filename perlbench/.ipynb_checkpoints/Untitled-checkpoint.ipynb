{
 "cells": [
  {
   "cell_type": "code",
   "execution_count": 17,
   "metadata": {},
   "outputs": [],
   "source": [
    "import matplotlib.pyplot as plt\n",
    "import pandas as pd\n",
    "import numpy as np\n",
    "import matplotlib.backends.backend_pdf\n",
    "import os\n",
    "pdf_filename = \"hist_plot_test_1.pdf\"\n",
    "os.remove(pdf_filename) \n",
    "\n",
    "my_nrows = 2000\n",
    "my_benchmark = 'perlbench'\n",
    "date = 'FEB04'\n",
    "\n",
    "data = pd.read_csv('AET_PIN_HIST_'+my_benchmark+'_'+date+'.out', sep=',',header='infer',nrows=my_nrows)\n",
    "data1 = pd.read_csv('AET_PIN_HIST_DROP_25_'+my_benchmark+'_'+date+'.out', sep=',',header='infer',nrows=my_nrows)\n",
    "data2 = pd.read_csv('AET_PIN_HIST_DROP_50_'+my_benchmark+'_'+date+'.out', sep=',',header='infer',nrows=my_nrows)\n",
    "\n",
    "#x = [i for i in range(data['counts'].size)]\n",
    "#data.plot(x='reuse_time', y='counts', kind='scatter')\n",
    "#plt.ylabel('Frequency')\n",
    "#plt.xlabel('Words')\n"
   ]
  },
  {
   "cell_type": "code",
   "execution_count": 8,
   "metadata": {},
   "outputs": [
    {
     "data": {
      "image/png": "[encoded data removed]",
      "text/plain": [
       "<Figure size 432x288 with 1 Axes>"
      ]
     },
     "metadata": {
      "needs_background": "light"
     },
     "output_type": "display_data"
    }
   ],
   "source": [
    "#plt.title('Title')\n",
    "\n",
    "fig1 = plt.figure()\n",
    "#plt.semilogy(data['reuse_time'],data['counts'])\n",
    "plt.bar(data['reuse_time'],data['counts'],width=100,color='b',align='edge')\n",
    "plt.yscale(\"log\")\n"
   ]
  },
  {
   "cell_type": "code",
   "execution_count": 9,
   "metadata": {},
   "outputs": [
    {
     "name": "stdout",
     "output_type": "stream",
     "text": [
      "hello\n"
     ]
    },
    {
     "data": {
      "image/png": "[encoded data removed]",
      "text/plain": [
       "<Figure size 432x288 with 1 Axes>"
      ]
     },
     "metadata": {
      "needs_background": "light"
     },
     "output_type": "display_data"
    }
   ],
   "source": [
    "fig2 = plt.figure()\n",
    "plt.bar(data1['reuse_time'],data1['counts'],width=100,color='b',align='edge')\n",
    "plt.yscale(\"log\")\n",
    "#plt.xlim(left=-10)\n",
    "#plt.show()\n"
   ]
  },
  {
   "cell_type": "code",
   "execution_count": null,
   "metadata": {},
   "outputs": [],
   "source": [
    "fig3 = plt.figure()\n",
    "plt.bar(data2['reuse_time'],data2['counts'],width=100,color='b',align='edge')\n",
    "plt.yscale(\"log\")"
   ]
  },
  {
   "cell_type": "code",
   "execution_count": 18,
   "metadata": {},
   "outputs": [],
   "source": [
    "\n",
    "pdf = matplotlib.backends.backend_pdf.PdfPages(pdf_filename)\n",
    "pdf.savefig( fig1 )\n",
    "pdf.savefig( fig2 )\n",
    "pdf.savefig( fig3 )\n",
    "pdf.close()"
   ]
  },
  {
   "cell_type": "code",
   "execution_count": 16,
   "metadata": {},
   "outputs": [],
   "source": []
  },
  {
   "cell_type": "code",
   "execution_count": null,
   "metadata": {},
   "outputs": [],
   "source": []
  }
 ],
 "metadata": {
  "kernelspec": {
   "display_name": "Python 3",
   "language": "python",
   "name": "python3"
  },
  "language_info": {
   "codemirror_mode": {
    "name": "ipython",
    "version": 3
   },
   "file_extension": ".py",
   "mimetype": "text/x-python",
   "name": "python",
   "nbconvert_exporter": "python",
   "pygments_lexer": "ipython3",
   "version": "3.7.2"
  }
 },
 "nbformat": 4,
 "nbformat_minor": 2
}
